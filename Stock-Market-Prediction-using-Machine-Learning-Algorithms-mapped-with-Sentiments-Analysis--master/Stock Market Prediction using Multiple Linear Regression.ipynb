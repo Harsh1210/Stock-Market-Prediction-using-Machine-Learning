{
 "cells": [
  {
   "cell_type": "markdown",
   "metadata": {},
   "source": [
    "## Importing the Libraries"
   ]
  },
  {
   "cell_type": "code",
   "execution_count": 1,
   "metadata": {},
   "outputs": [],
   "source": [
    "import pandas as pd\n",
    "import numpy as np\n",
    "import matplotlib.pyplot as plt\n",
    "from sklearn.linear_model import LinearRegression\n",
    "from sklearn.metrics import r2_score"
   ]
  },
  {
   "cell_type": "markdown",
   "metadata": {},
   "source": [
    "## Importing the Dataset"
   ]
  },
  {
   "cell_type": "code",
   "execution_count": 2,
   "metadata": {},
   "outputs": [
    {
     "data": {
      "text/html": [
       "<div>\n",
       "<style scoped>\n",
       "    .dataframe tbody tr th:only-of-type {\n",
       "        vertical-align: middle;\n",
       "    }\n",
       "\n",
       "    .dataframe tbody tr th {\n",
       "        vertical-align: top;\n",
       "    }\n",
       "\n",
       "    .dataframe thead th {\n",
       "        text-align: right;\n",
       "    }\n",
       "</style>\n",
       "<table border=\"1\" class=\"dataframe\">\n",
       "  <thead>\n",
       "    <tr style=\"text-align: right;\">\n",
       "      <th></th>\n",
       "      <th>Date</th>\n",
       "      <th>Open</th>\n",
       "      <th>High</th>\n",
       "      <th>Low</th>\n",
       "      <th>Close</th>\n",
       "      <th>Adj Close</th>\n",
       "      <th>Volume</th>\n",
       "    </tr>\n",
       "  </thead>\n",
       "  <tbody>\n",
       "    <tr>\n",
       "      <th>0</th>\n",
       "      <td>2012-10-31</td>\n",
       "      <td>10.56</td>\n",
       "      <td>10.87</td>\n",
       "      <td>10.50</td>\n",
       "      <td>10.63</td>\n",
       "      <td>10.033685</td>\n",
       "      <td>45900</td>\n",
       "    </tr>\n",
       "    <tr>\n",
       "      <th>1</th>\n",
       "      <td>2012-11-01</td>\n",
       "      <td>10.71</td>\n",
       "      <td>11.41</td>\n",
       "      <td>10.59</td>\n",
       "      <td>11.22</td>\n",
       "      <td>10.590586</td>\n",
       "      <td>66400</td>\n",
       "    </tr>\n",
       "    <tr>\n",
       "      <th>2</th>\n",
       "      <td>2012-11-02</td>\n",
       "      <td>11.22</td>\n",
       "      <td>11.22</td>\n",
       "      <td>10.83</td>\n",
       "      <td>10.85</td>\n",
       "      <td>10.241342</td>\n",
       "      <td>38600</td>\n",
       "    </tr>\n",
       "    <tr>\n",
       "      <th>3</th>\n",
       "      <td>2012-11-05</td>\n",
       "      <td>10.99</td>\n",
       "      <td>11.40</td>\n",
       "      <td>10.86</td>\n",
       "      <td>11.27</td>\n",
       "      <td>10.637783</td>\n",
       "      <td>48600</td>\n",
       "    </tr>\n",
       "    <tr>\n",
       "      <th>4</th>\n",
       "      <td>2012-11-06</td>\n",
       "      <td>11.27</td>\n",
       "      <td>11.44</td>\n",
       "      <td>11.14</td>\n",
       "      <td>11.43</td>\n",
       "      <td>10.788806</td>\n",
       "      <td>28200</td>\n",
       "    </tr>\n",
       "  </tbody>\n",
       "</table>\n",
       "</div>"
      ],
      "text/plain": [
       "         Date   Open   High    Low  Close  Adj Close  Volume\n",
       "0  2012-10-31  10.56  10.87  10.50  10.63  10.033685   45900\n",
       "1  2012-11-01  10.71  11.41  10.59  11.22  10.590586   66400\n",
       "2  2012-11-02  11.22  11.22  10.83  10.85  10.241342   38600\n",
       "3  2012-11-05  10.99  11.40  10.86  11.27  10.637783   48600\n",
       "4  2012-11-06  11.27  11.44  11.14  11.43  10.788806   28200"
      ]
     },
     "execution_count": 2,
     "metadata": {},
     "output_type": "execute_result"
    }
   ],
   "source": [
    "dataset= pd.read_csv('Yahoo_Finance.csv')  \n",
    "dataset.head()"
   ]
  },
  {
   "cell_type": "markdown",
   "metadata": {},
   "source": [
    "## Pre-preocessing the Dataset"
   ]
  },
  {
   "cell_type": "code",
   "execution_count": 3,
   "metadata": {},
   "outputs": [
    {
     "data": {
      "text/html": [
       "<div>\n",
       "<style scoped>\n",
       "    .dataframe tbody tr th:only-of-type {\n",
       "        vertical-align: middle;\n",
       "    }\n",
       "\n",
       "    .dataframe tbody tr th {\n",
       "        vertical-align: top;\n",
       "    }\n",
       "\n",
       "    .dataframe thead th {\n",
       "        text-align: right;\n",
       "    }\n",
       "</style>\n",
       "<table border=\"1\" class=\"dataframe\">\n",
       "  <thead>\n",
       "    <tr style=\"text-align: right;\">\n",
       "      <th></th>\n",
       "      <th>Open</th>\n",
       "      <th>High</th>\n",
       "      <th>Low</th>\n",
       "      <th>Close</th>\n",
       "      <th>Adj Close</th>\n",
       "      <th>Volume</th>\n",
       "    </tr>\n",
       "    <tr>\n",
       "      <th>Date</th>\n",
       "      <th></th>\n",
       "      <th></th>\n",
       "      <th></th>\n",
       "      <th></th>\n",
       "      <th></th>\n",
       "      <th></th>\n",
       "    </tr>\n",
       "  </thead>\n",
       "  <tbody>\n",
       "    <tr>\n",
       "      <th>734807</th>\n",
       "      <td>10.56</td>\n",
       "      <td>10.87</td>\n",
       "      <td>10.50</td>\n",
       "      <td>10.63</td>\n",
       "      <td>10.033685</td>\n",
       "      <td>45900</td>\n",
       "    </tr>\n",
       "    <tr>\n",
       "      <th>734808</th>\n",
       "      <td>10.71</td>\n",
       "      <td>11.41</td>\n",
       "      <td>10.59</td>\n",
       "      <td>11.22</td>\n",
       "      <td>10.590586</td>\n",
       "      <td>66400</td>\n",
       "    </tr>\n",
       "    <tr>\n",
       "      <th>734809</th>\n",
       "      <td>11.22</td>\n",
       "      <td>11.22</td>\n",
       "      <td>10.83</td>\n",
       "      <td>10.85</td>\n",
       "      <td>10.241342</td>\n",
       "      <td>38600</td>\n",
       "    </tr>\n",
       "    <tr>\n",
       "      <th>734812</th>\n",
       "      <td>10.99</td>\n",
       "      <td>11.40</td>\n",
       "      <td>10.86</td>\n",
       "      <td>11.27</td>\n",
       "      <td>10.637783</td>\n",
       "      <td>48600</td>\n",
       "    </tr>\n",
       "    <tr>\n",
       "      <th>734813</th>\n",
       "      <td>11.27</td>\n",
       "      <td>11.44</td>\n",
       "      <td>11.14</td>\n",
       "      <td>11.43</td>\n",
       "      <td>10.788806</td>\n",
       "      <td>28200</td>\n",
       "    </tr>\n",
       "  </tbody>\n",
       "</table>\n",
       "</div>"
      ],
      "text/plain": [
       "         Open   High    Low  Close  Adj Close  Volume\n",
       "Date                                                 \n",
       "734807  10.56  10.87  10.50  10.63  10.033685   45900\n",
       "734808  10.71  11.41  10.59  11.22  10.590586   66400\n",
       "734809  11.22  11.22  10.83  10.85  10.241342   38600\n",
       "734812  10.99  11.40  10.86  11.27  10.637783   48600\n",
       "734813  11.27  11.44  11.14  11.43  10.788806   28200"
      ]
     },
     "execution_count": 3,
     "metadata": {},
     "output_type": "execute_result"
    }
   ],
   "source": [
    "import datetime as dt\n",
    "dataset['Date'] = pd.to_datetime(dataset['Date'])\n",
    "dataset['Date']=dataset['Date'].map(dt.datetime.toordinal)\n",
    "\n",
    "indexDataset = dataset.set_index(['Date'])\n",
    "\n",
    "indexDataset.head()"
   ]
  },
  {
   "cell_type": "code",
   "execution_count": 4,
   "metadata": {},
   "outputs": [
    {
     "data": {
      "text/html": [
       "<div>\n",
       "<style scoped>\n",
       "    .dataframe tbody tr th:only-of-type {\n",
       "        vertical-align: middle;\n",
       "    }\n",
       "\n",
       "    .dataframe tbody tr th {\n",
       "        vertical-align: top;\n",
       "    }\n",
       "\n",
       "    .dataframe thead th {\n",
       "        text-align: right;\n",
       "    }\n",
       "</style>\n",
       "<table border=\"1\" class=\"dataframe\">\n",
       "  <thead>\n",
       "    <tr style=\"text-align: right;\">\n",
       "      <th></th>\n",
       "      <th>Open</th>\n",
       "      <th>High</th>\n",
       "      <th>Low</th>\n",
       "      <th>Close</th>\n",
       "      <th>Adj Close</th>\n",
       "      <th>Volume</th>\n",
       "    </tr>\n",
       "    <tr>\n",
       "      <th>Date</th>\n",
       "      <th></th>\n",
       "      <th></th>\n",
       "      <th></th>\n",
       "      <th></th>\n",
       "      <th></th>\n",
       "      <th></th>\n",
       "    </tr>\n",
       "  </thead>\n",
       "  <tbody>\n",
       "    <tr>\n",
       "      <th>734807</th>\n",
       "      <td>10.560000</td>\n",
       "      <td>10.870000</td>\n",
       "      <td>10.500000</td>\n",
       "      <td>10.630000</td>\n",
       "      <td>10.033685</td>\n",
       "      <td>45900</td>\n",
       "    </tr>\n",
       "    <tr>\n",
       "      <th>734808</th>\n",
       "      <td>10.710000</td>\n",
       "      <td>11.410000</td>\n",
       "      <td>10.590000</td>\n",
       "      <td>11.220000</td>\n",
       "      <td>10.590586</td>\n",
       "      <td>66400</td>\n",
       "    </tr>\n",
       "    <tr>\n",
       "      <th>734809</th>\n",
       "      <td>11.220000</td>\n",
       "      <td>11.220000</td>\n",
       "      <td>10.830000</td>\n",
       "      <td>10.850000</td>\n",
       "      <td>10.241342</td>\n",
       "      <td>38600</td>\n",
       "    </tr>\n",
       "    <tr>\n",
       "      <th>734812</th>\n",
       "      <td>10.990000</td>\n",
       "      <td>11.400000</td>\n",
       "      <td>10.860000</td>\n",
       "      <td>11.270000</td>\n",
       "      <td>10.637783</td>\n",
       "      <td>48600</td>\n",
       "    </tr>\n",
       "    <tr>\n",
       "      <th>734813</th>\n",
       "      <td>11.270000</td>\n",
       "      <td>11.440000</td>\n",
       "      <td>11.140000</td>\n",
       "      <td>11.430000</td>\n",
       "      <td>10.788806</td>\n",
       "      <td>28200</td>\n",
       "    </tr>\n",
       "    <tr>\n",
       "      <th>...</th>\n",
       "      <td>...</td>\n",
       "      <td>...</td>\n",
       "      <td>...</td>\n",
       "      <td>...</td>\n",
       "      <td>...</td>\n",
       "      <td>...</td>\n",
       "    </tr>\n",
       "    <tr>\n",
       "      <th>737354</th>\n",
       "      <td>21.629999</td>\n",
       "      <td>21.790001</td>\n",
       "      <td>21.379999</td>\n",
       "      <td>21.389999</td>\n",
       "      <td>21.389999</td>\n",
       "      <td>39100</td>\n",
       "    </tr>\n",
       "    <tr>\n",
       "      <th>737355</th>\n",
       "      <td>21.400000</td>\n",
       "      <td>21.530001</td>\n",
       "      <td>21.370001</td>\n",
       "      <td>21.459999</td>\n",
       "      <td>21.459999</td>\n",
       "      <td>67100</td>\n",
       "    </tr>\n",
       "    <tr>\n",
       "      <th>737356</th>\n",
       "      <td>21.600000</td>\n",
       "      <td>21.639999</td>\n",
       "      <td>21.400000</td>\n",
       "      <td>21.600000</td>\n",
       "      <td>21.600000</td>\n",
       "      <td>74300</td>\n",
       "    </tr>\n",
       "    <tr>\n",
       "      <th>737357</th>\n",
       "      <td>21.590000</td>\n",
       "      <td>22.129999</td>\n",
       "      <td>21.540001</td>\n",
       "      <td>22.000000</td>\n",
       "      <td>22.000000</td>\n",
       "      <td>114900</td>\n",
       "    </tr>\n",
       "    <tr>\n",
       "      <th>737360</th>\n",
       "      <td>22.020000</td>\n",
       "      <td>22.930000</td>\n",
       "      <td>22.020000</td>\n",
       "      <td>22.780001</td>\n",
       "      <td>22.780001</td>\n",
       "      <td>173400</td>\n",
       "    </tr>\n",
       "  </tbody>\n",
       "</table>\n",
       "<p>1760 rows × 6 columns</p>\n",
       "</div>"
      ],
      "text/plain": [
       "             Open       High        Low      Close  Adj Close  Volume\n",
       "Date                                                                 \n",
       "734807  10.560000  10.870000  10.500000  10.630000  10.033685   45900\n",
       "734808  10.710000  11.410000  10.590000  11.220000  10.590586   66400\n",
       "734809  11.220000  11.220000  10.830000  10.850000  10.241342   38600\n",
       "734812  10.990000  11.400000  10.860000  11.270000  10.637783   48600\n",
       "734813  11.270000  11.440000  11.140000  11.430000  10.788806   28200\n",
       "...           ...        ...        ...        ...        ...     ...\n",
       "737354  21.629999  21.790001  21.379999  21.389999  21.389999   39100\n",
       "737355  21.400000  21.530001  21.370001  21.459999  21.459999   67100\n",
       "737356  21.600000  21.639999  21.400000  21.600000  21.600000   74300\n",
       "737357  21.590000  22.129999  21.540001  22.000000  22.000000  114900\n",
       "737360  22.020000  22.930000  22.020000  22.780001  22.780001  173400\n",
       "\n",
       "[1760 rows x 6 columns]"
      ]
     },
     "execution_count": 4,
     "metadata": {},
     "output_type": "execute_result"
    }
   ],
   "source": [
    "indexDataset"
   ]
  },
  {
   "cell_type": "code",
   "execution_count": 5,
   "metadata": {},
   "outputs": [],
   "source": [
    "X = dataset.iloc[:, 0:2].values  \n",
    "y = dataset['Close']"
   ]
  },
  {
   "cell_type": "code",
   "execution_count": 6,
   "metadata": {},
   "outputs": [],
   "source": [
    "from sklearn.model_selection import train_test_split  \n",
    "X_train, X_test, y_train, y_test = train_test_split(X, y, test_size=0.20) "
   ]
  },
  {
   "cell_type": "code",
   "execution_count": 7,
   "metadata": {},
   "outputs": [],
   "source": [
    "from sklearn.preprocessing import StandardScaler\n",
    "\n",
    "sc = StandardScaler()  \n",
    "X_train = sc.fit_transform(X_train)  \n",
    "X_test = sc.transform(X_test)"
   ]
  },
  {
   "cell_type": "markdown",
   "metadata": {},
   "source": [
    "## Multiple Linear Regression Implementation"
   ]
  },
  {
   "cell_type": "code",
   "execution_count": 8,
   "metadata": {},
   "outputs": [
    {
     "data": {
      "text/plain": [
       "LinearRegression(copy_X=True, fit_intercept=True, n_jobs=None, normalize=False)"
      ]
     },
     "execution_count": 8,
     "metadata": {},
     "output_type": "execute_result"
    }
   ],
   "source": [
    "classifier = LinearRegression()  \n",
    "classifier.fit(X_train, y_train)  "
   ]
  },
  {
   "cell_type": "code",
   "execution_count": 9,
   "metadata": {},
   "outputs": [],
   "source": [
    "y_pred = classifier.predict(X_test)  "
   ]
  },
  {
   "cell_type": "markdown",
   "metadata": {},
   "source": [
    "## Visualizing the Output"
   ]
  },
  {
   "cell_type": "code",
   "execution_count": 10,
   "metadata": {},
   "outputs": [
    {
     "data": {
      "text/plain": [
       "[<matplotlib.lines.Line2D at 0x125e80ed0>]"
      ]
     },
     "execution_count": 10,
     "metadata": {},
     "output_type": "execute_result"
    },
    {
     "data": {
      "image/png": "[encoded data removed]",
      "text/plain": [
       "<Figure size 1080x432 with 1 Axes>"
      ]
     },
     "metadata": {
      "needs_background": "light"
     },
     "output_type": "display_data"
    }
   ],
   "source": [
    "import matplotlib.pyplot as plt\n",
    "from matplotlib.pylab import rcParams\n",
    "rcParams['figure.figsize']=15,6\n",
    "\n",
    "plt.xlabel(\"Date\")\n",
    "plt.ylabel(\"Yahoo Finance Stock Prices\")\n",
    "plt.plot(y_pred[:50],linewidth=3.0)"
   ]
  },
  {
   "cell_type": "code",
   "execution_count": 11,
   "metadata": {},
   "outputs": [],
   "source": [
    "tt=y_test\n",
    "tt.reset_index(drop=True, inplace=True)"
   ]
  },
  {
   "cell_type": "code",
   "execution_count": 12,
   "metadata": {},
   "outputs": [
    {
     "data": {
      "image/png": "[encoded data removed]",
      "text/plain": [
       "<Figure size 1080x432 with 1 Axes>"
      ]
     },
     "metadata": {
      "needs_background": "light"
     },
     "output_type": "display_data"
    }
   ],
   "source": [
    "plt.plot(tt[:50], color = 'blue', label = 'Actual Stock Price',linewidth=3.0)\n",
    "plt.plot(y_pred[:50], color = 'orange', label = 'Predicted Stock Price',linewidth=3.0)\n",
    "plt.title('Yahoo Finance Stock Prices')\n",
    "plt.xlabel('Date')\n",
    "plt.ylabel('Stock Price')\n",
    "plt.legend()\n",
    "plt.show()"
   ]
  },
  {
   "cell_type": "code",
   "execution_count": 13,
   "metadata": {},
   "outputs": [
    {
     "data": {
      "text/plain": [
       "array([26.33524007, 28.26564827, 23.83457178, 13.12694199, 17.51513775,\n",
       "       26.92945185, 25.16159618, 18.9065502 , 19.98904453, 19.47184833,\n",
       "       19.27018061, 27.4027502 , 23.44235604, 25.94309883, 22.52804245,\n",
       "       18.01727316, 22.78597221, 27.23455496, 17.96157386, 19.06335455,\n",
       "       18.52577185, 19.0846157 , 23.4079189 , 19.99437631, 18.79889402,\n",
       "       23.61082734, 20.65919011, 28.70337249, 26.33886237, 21.99753291,\n",
       "       21.90903225, 18.21274219, 19.07589318, 25.44750205, 18.4671621 ,\n",
       "       20.73943403, 22.95502265, 24.65104907, 17.65500247, 22.44460238,\n",
       "       24.10752249, 28.37487546, 28.57459262, 24.11749834, 18.79749933,\n",
       "       26.75239649, 27.07790558, 26.46299329, 21.69724344, 20.70057752,\n",
       "       16.84976199, 21.00476823, 17.67587532, 24.72710308, 14.59783206,\n",
       "       18.70829269, 19.38136323, 19.50025546, 23.58176072, 27.67194302,\n",
       "       15.47084745, 27.4614723 , 14.70694204, 21.29606974, 18.7182908 ,\n",
       "       21.72281749, 19.30465461, 22.7866337 , 19.05719072, 22.6799508 ,\n",
       "       24.40971514, 23.58371715, 16.14269497, 18.75778853, 22.22918154,\n",
       "       27.09724518, 24.89903685, 18.33253122, 11.57856923, 19.22448041,\n",
       "       26.93792166, 20.33459144, 16.91226036, 19.38155317, 23.51379498,\n",
       "       25.77197574, 18.72574848, 18.2214242 , 23.83063468, 27.06893113,\n",
       "       28.176461  , 22.11652774, 27.53494515, 15.81734462, 24.99256313,\n",
       "       20.52025519, 23.98559981, 23.48977922, 19.84727564, 23.27543925,\n",
       "       19.69913858, 20.80627628, 16.92780055, 18.80608339, 24.45306076,\n",
       "       26.57189019, 23.33400052, 24.55230624, 24.06664657, 24.7235389 ,\n",
       "       23.64036173, 19.44219672, 18.60024711, 25.64026893, 22.10005201,\n",
       "       24.54522247, 24.56610396, 26.96650888, 16.52264426, 21.6320612 ,\n",
       "       26.9707123 , 11.28048414, 16.00707519, 25.24072525, 22.60791247,\n",
       "       26.42888257, 11.55880149, 19.20409282, 20.24404933, 17.36825503,\n",
       "       23.56360074, 26.42917313, 23.66116098, 14.70508257, 18.65574783,\n",
       "       10.78400494, 21.61898694, 18.28531923, 20.65564152, 21.94296198,\n",
       "       23.3134822 , 22.50136318, 18.31810789, 23.66477354, 18.02361111,\n",
       "       26.10089405, 26.49808804, 16.30397868, 20.58556339, 18.53991825,\n",
       "       19.39120261, 28.83244292, 26.50460242, 17.81883933, 19.99739325,\n",
       "       26.75224153, 28.28615309, 23.57313594, 26.61667411, 21.42923699,\n",
       "       10.64510777, 25.28588207, 26.06182248, 27.94862937, 18.6873811 ,\n",
       "       24.38008291, 22.38495149, 16.16422345, 19.99631227, 18.77751753,\n",
       "       20.62649256, 18.4714274 , 19.44070519, 11.80673116, 24.27515797,\n",
       "       12.92845104, 21.63963997, 22.9887092 , 20.88025277, 17.65248429,\n",
       "       17.18759476, 18.82379972, 25.94106492, 23.59540348, 20.55436203,\n",
       "       23.8765857 , 28.67371989, 19.0363576 , 27.25736487, 26.0043401 ,\n",
       "       27.99933304, 26.3329156 , 24.64419675, 16.87974301, 23.41485844,\n",
       "       25.84559869, 18.29497165, 22.16546183, 25.82525371, 27.12427788,\n",
       "       16.36366832, 22.34637392, 24.03903275, 21.62889018, 25.74585346,\n",
       "       19.15349197, 22.63100996, 23.28161847, 20.85741087, 18.98509815,\n",
       "       22.81644126, 18.40557117, 28.42516549, 20.1067163 , 16.37077842,\n",
       "       28.08080594, 27.51234543, 24.40182158, 17.95913317, 16.93935516,\n",
       "       13.89111858, 17.0275884 , 22.34813664, 25.28640508, 17.50928297,\n",
       "       21.79007814, 24.19771703, 19.96640408, 23.68059554, 18.74639464,\n",
       "       23.97978864, 21.38026317, 22.80753943, 24.72579552, 18.4020651 ,\n",
       "       23.05776069, 15.40983973, 22.15698128, 24.46493117, 23.45117254,\n",
       "       19.80774492, 26.51156133, 24.45304139, 22.22300808, 19.11122623,\n",
       "       18.45036183, 23.62853981, 20.3260655 , 18.97406556, 27.7601395 ,\n",
       "       23.63088951, 24.07184275, 10.62495262, 26.99893147, 21.63211067,\n",
       "       18.31260664, 15.70926129, 23.52187251, 16.88716194, 25.31033848,\n",
       "       19.2005491 , 22.6496396 , 20.48327187, 16.90933452, 24.13385199,\n",
       "       24.25124394, 24.66251269, 17.54492595, 22.9984381 , 18.85583303,\n",
       "       20.8147907 , 24.37643537, 17.48471033, 17.34631778, 19.03498229,\n",
       "       20.62585333, 19.64722054, 25.69367763, 16.82948963, 20.87850654,\n",
       "       17.72940024, 18.94425998, 21.62363211, 26.74652134, 19.16428714,\n",
       "       25.53390859, 22.44325717, 25.25838159, 20.3972275 , 19.14531172,\n",
       "       24.65754796, 26.77136805, 23.71154299, 23.58135394, 26.44270156,\n",
       "       23.4898567 , 20.7156226 , 19.24260264, 25.69677692, 26.11096964,\n",
       "       22.04201176, 22.57992951, 20.23949237, 18.27314854, 25.56056362,\n",
       "       19.04552585, 26.66344167, 17.60395698, 25.70236052, 16.45272   ,\n",
       "       28.8123866 , 21.32051454, 21.65805653, 23.583291  , 24.36008173,\n",
       "       22.02735984, 25.07766321, 17.44216854, 17.36276828, 24.35967495,\n",
       "       18.49683209, 26.74838092, 15.39177649, 26.33307056, 11.16129659,\n",
       "       19.17509992, 22.53486577, 23.43361503, 25.09818739, 24.5115379 ,\n",
       "       24.73204745, 26.83871691, 21.15349116, 25.74282678, 17.76945972,\n",
       "       16.97007314, 18.15017896, 26.38907492, 16.8176843 , 25.87172287,\n",
       "       19.32979474, 23.24184955, 11.08154766, 21.16781953, 23.13772269,\n",
       "       17.51311834, 26.6811154 , 25.74460887, 23.66016821, 26.34351618,\n",
       "       26.56402086, 20.27811843])"
      ]
     },
     "execution_count": 13,
     "metadata": {},
     "output_type": "execute_result"
    }
   ],
   "source": [
    "y_pred"
   ]
  },
  {
   "cell_type": "code",
   "execution_count": 14,
   "metadata": {},
   "outputs": [],
   "source": [
    "import numpy as np\n",
    "from sklearn.metrics import mean_squared_error\n",
    "from sklearn.metrics import r2_score\n",
    "test_set_rmse = (np.sqrt(mean_squared_error(y_test, y_pred)))\n",
    "test_set_r2 = r2_score(y_test, y_pred)"
   ]
  },
  {
   "cell_type": "code",
   "execution_count": 15,
   "metadata": {
    "scrolled": true
   },
   "outputs": [
    {
     "name": "stdout",
     "output_type": "stream",
     "text": [
      "0.38348531583552437\n"
     ]
    }
   ],
   "source": [
    "print(test_set_rmse)"
   ]
  },
  {
   "cell_type": "code",
   "execution_count": 16,
   "metadata": {},
   "outputs": [],
   "source": [
    "fit = classifier.fit(X,y)"
   ]
  },
  {
   "cell_type": "code",
   "execution_count": 17,
   "metadata": {},
   "outputs": [
    {
     "data": {
      "text/plain": [
       "0.9920622166959187"
      ]
     },
     "execution_count": 17,
     "metadata": {},
     "output_type": "execute_result"
    }
   ],
   "source": [
    "fit.score(X,y)"
   ]
  },
  {
   "cell_type": "code",
   "execution_count": null,
   "metadata": {},
   "outputs": [],
   "source": []
  }
 ],
 "metadata": {
  "kernelspec": {
   "display_name": "Python 3",
   "language": "python",
   "name": "python3"
  },
  "language_info": {
   "codemirror_mode": {
    "name": "ipython",
    "version": 3
   },
   "file_extension": ".py",
   "mimetype": "text/x-python",
   "name": "python",
   "nbconvert_exporter": "python",
   "pygments_lexer": "ipython3",
   "version": "3.7.6"
  }
 },
 "nbformat": 4,
 "nbformat_minor": 2
}
